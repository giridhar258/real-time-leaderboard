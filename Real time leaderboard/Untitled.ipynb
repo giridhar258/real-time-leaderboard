{
 "cells": [
  {
   "cell_type": "code",
   "execution_count": 2,
   "id": "2e4c3eb5-404e-4e3f-bafd-98a524d74400",
   "metadata": {},
   "outputs": [
    {
     "name": "stdout",
     "output_type": "stream",
     "text": [
      "Defaulting to user installation because normal site-packages is not writeable\n",
      "Requirement already satisfied: flask in c:\\programdata\\anaconda3\\lib\\site-packages (3.1.0)\n",
      "Collecting flask-jwt-extended\n",
      "  Downloading Flask_JWT_Extended-4.7.1-py2.py3-none-any.whl.metadata (3.8 kB)\n",
      "Requirement already satisfied: redis in c:\\users\\krish\\appdata\\roaming\\python\\python313\\site-packages (6.2.0)\n",
      "Requirement already satisfied: sqlalchemy in c:\\programdata\\anaconda3\\lib\\site-packages (2.0.39)\n",
      "Requirement already satisfied: Werkzeug>=3.1 in c:\\programdata\\anaconda3\\lib\\site-packages (from flask) (3.1.3)\n",
      "Requirement already satisfied: Jinja2>=3.1.2 in c:\\programdata\\anaconda3\\lib\\site-packages (from flask) (3.1.6)\n",
      "Requirement already satisfied: itsdangerous>=2.2 in c:\\programdata\\anaconda3\\lib\\site-packages (from flask) (2.2.0)\n",
      "Requirement already satisfied: click>=8.1.3 in c:\\programdata\\anaconda3\\lib\\site-packages (from flask) (8.1.8)\n",
      "Requirement already satisfied: blinker>=1.9 in c:\\programdata\\anaconda3\\lib\\site-packages (from flask) (1.9.0)\n",
      "Requirement already satisfied: PyJWT<3.0,>=2.0 in c:\\programdata\\anaconda3\\lib\\site-packages (from flask-jwt-extended) (2.10.1)\n",
      "Requirement already satisfied: greenlet!=0.4.17 in c:\\programdata\\anaconda3\\lib\\site-packages (from sqlalchemy) (3.1.1)\n",
      "Requirement already satisfied: typing-extensions>=4.6.0 in c:\\programdata\\anaconda3\\lib\\site-packages (from sqlalchemy) (4.12.2)\n",
      "Requirement already satisfied: colorama in c:\\programdata\\anaconda3\\lib\\site-packages (from click>=8.1.3->flask) (0.4.6)\n",
      "Requirement already satisfied: MarkupSafe>=2.0 in c:\\programdata\\anaconda3\\lib\\site-packages (from Jinja2>=3.1.2->flask) (3.0.2)\n",
      "Downloading Flask_JWT_Extended-4.7.1-py2.py3-none-any.whl (22 kB)\n",
      "Installing collected packages: flask-jwt-extended\n",
      "Successfully installed flask-jwt-extended-4.7.1\n",
      "Note: you may need to restart the kernel to use updated packages.\n"
     ]
    }
   ],
   "source": [
    "%pip install flask flask-jwt-extended redis sqlalchemy\n"
   ]
  },
  {
   "cell_type": "code",
   "execution_count": 8,
   "id": "aa44e3c8-408a-4197-8007-79ac16280aa3",
   "metadata": {},
   "outputs": [
    {
     "name": "stdout",
     "output_type": "stream",
     "text": [
      " * Serving Flask app '__main__'\n",
      " * Debug mode: off\n"
     ]
    },
    {
     "name": "stderr",
     "output_type": "stream",
     "text": [
      "WARNING: This is a development server. Do not use it in a production deployment. Use a production WSGI server instead.\n",
      " * Running on http://127.0.0.1:5000\n",
      "Press CTRL+C to quit\n"
     ]
    }
   ],
   "source": [
    "# Step 1: Imports and Configuration\n",
    "import redis\n",
    "from flask import Flask, request, jsonify\n",
    "from flask_jwt_extended import JWTManager, create_access_token, jwt_required, get_jwt_identity\n",
    "from sqlalchemy import create_engine, Column, Integer, String\n",
    "from sqlalchemy.orm import declarative_base\n",
    "from sqlalchemy.orm import sessionmaker\n",
    "from datetime import timedelta\n",
    "\n",
    "app = Flask(__name__)\n",
    "app.config['JWT_SECRET_KEY'] = 'secret-key'\n",
    "app.config['JWT_ACCESS_TOKEN_EXPIRES'] = timedelta(hours=1)\n",
    "\n",
    "jwt = JWTManager(app)\n",
    "r = redis.Redis(host='localhost', port=6379, db=0, decode_responses=True)\n",
    "\n",
    "# SQLite Setup\n",
    "engine = create_engine('sqlite:///users.db')\n",
    "Base = declarative_base()\n",
    "SessionLocal = sessionmaker(bind=engine)\n",
    "db = SessionLocal()\n",
    "\n",
    "# Step 2: User Table Model\n",
    "class User(Base):\n",
    "    __tablename__ = \"users\"\n",
    "    id = Column(Integer, primary_key=True)\n",
    "    username = Column(String, unique=True, nullable=False)\n",
    "    password = Column(String, nullable=False)\n",
    "\n",
    "Base.metadata.create_all(engine)\n",
    "\n",
    "# Step 3: Register Endpoint\n",
    "@app.route(\"/register\", methods=[\"POST\"])\n",
    "def register():\n",
    "    data = request.get_json()\n",
    "    if db.query(User).filter_by(username=data[\"username\"]).first():\n",
    "        return jsonify({\"msg\": \"User already exists\"}), 400\n",
    "    user = User(username=data[\"username\"], password=data[\"password\"])\n",
    "    db.add(user)\n",
    "    db.commit()\n",
    "    return jsonify({\"msg\": \"User registered successfully\"})\n",
    "\n",
    "# Step 4: Login Endpoint\n",
    "@app.route(\"/login\", methods=[\"POST\"])\n",
    "def login():\n",
    "    data = request.get_json()\n",
    "    user = db.query(User).filter_by(username=data[\"username\"], password=data[\"password\"]).first()\n",
    "    if not user:\n",
    "        return jsonify({\"msg\": \"Invalid credentials\"}), 401\n",
    "    token = create_access_token(identity=user.username)\n",
    "    return jsonify(access_token=token)\n",
    "\n",
    "# Step 5: Submit Score\n",
    "@app.route(\"/submit_score\", methods=[\"POST\"])\n",
    "@jwt_required()\n",
    "def submit_score():\n",
    "    current_user = get_jwt_identity()\n",
    "    data = request.get_json()\n",
    "    game = data[\"game\"]\n",
    "    score = data[\"score\"]\n",
    "    r.zadd(f\"leaderboard:{game}\", {current_user: score})\n",
    "    return jsonify({\"msg\": f\"Score {score} submitted for {current_user} in {game}.\"})\n",
    "\n",
    "# Step 6: Get Global Leaderboard\n",
    "@app.route(\"/leaderboard/<game>\", methods=[\"GET\"])\n",
    "def get_leaderboard(game):\n",
    "    leaderboard = r.zrevrange(f\"leaderboard:{game}\", 0, 9, withscores=True)\n",
    "    return jsonify({\"leaderboard\": leaderboard})\n",
    "\n",
    "# Step 7: Get User Rank\n",
    "@app.route(\"/rank/<game>\", methods=[\"GET\"])\n",
    "@jwt_required()\n",
    "def get_rank(game):\n",
    "    current_user = get_jwt_identity()\n",
    "    rank = r.zrevrank(f\"leaderboard:{game}\", current_user)\n",
    "    score = r.zscore(f\"leaderboard:{game}\", current_user)\n",
    "    return jsonify({\"user\": current_user, \"rank\": rank + 1 if rank is not None else None, \"score\": score})\n",
    "\n",
    "# Step 8: Run Server (in Jupyter)\n",
    "from threading import Thread\n",
    "\n",
    "def run_server():\n",
    "    app.run(port=5000)\n",
    "\n",
    "Thread(target=run_server).start()\n"
   ]
  },
  {
   "cell_type": "code",
   "execution_count": null,
   "id": "1b67e66f-7c75-4e3d-aa77-600640e24fb2",
   "metadata": {},
   "outputs": [],
   "source": []
  }
 ],
 "metadata": {
  "kernelspec": {
   "display_name": "Python 3 (ipykernel)",
   "language": "python",
   "name": "python3"
  },
  "language_info": {
   "codemirror_mode": {
    "name": "ipython",
    "version": 3
   },
   "file_extension": ".py",
   "mimetype": "text/x-python",
   "name": "python",
   "nbconvert_exporter": "python",
   "pygments_lexer": "ipython3",
   "version": "3.13.5"
  }
 },
 "nbformat": 4,
 "nbformat_minor": 5
}
